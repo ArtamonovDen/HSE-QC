{
 "cells": [
  {
   "cell_type": "markdown",
   "id": "e0668410-b4ea-4adc-8f08-e63f99260eb6",
   "metadata": {},
   "source": [
    "# Бинарный классификатор"
   ]
  },
  {
   "cell_type": "markdown",
   "id": "404586d7-83ee-4bbd-9244-5ba71efc85e0",
   "metadata": {},
   "source": [
    "На основе библиотеки [qiskit ML](https://qiskit.org/documentation/machine-learning/index.html) и туториала [Neural Network Classifier & Regressor](https://qiskit.org/documentation/machine-learning/tutorials/02_neural_network_classifier_and_regressor.html) построим бинарный классификатор"
   ]
  },
  {
   "cell_type": "code",
   "execution_count": 1,
   "id": "9166c50c-b832-4035-833c-4966dde6601f",
   "metadata": {},
   "outputs": [],
   "source": [
    "import numpy as np\n",
    "import matplotlib.pyplot as plt\n",
    "\n",
    "from qiskit import Aer, QuantumCircuit\n",
    "from qiskit.opflow import Z, I, StateFn\n",
    "from qiskit.utils import QuantumInstance\n",
    "from qiskit.circuit import Parameter\n",
    "from qiskit.circuit.library import RealAmplitudes, ZZFeatureMap\n",
    "from qiskit.algorithms.optimizers import COBYLA, L_BFGS_B\n",
    "\n",
    "from qiskit_machine_learning.neural_networks import TwoLayerQNN, CircuitQNN\n",
    "from qiskit_machine_learning.algorithms.classifiers import NeuralNetworkClassifier, VQC\n",
    "from qiskit_machine_learning.algorithms.regressors import NeuralNetworkRegressor, VQR\n",
    "\n",
    "from typing import Union\n",
    "\n",
    "from qiskit_machine_learning.exceptions import QiskitMachineLearningError\n",
    "\n",
    "from IPython.display import clear_output"
   ]
  },
  {
   "cell_type": "markdown",
   "id": "0b01dea2-2ef8-42a8-b547-cd25705cd25c",
   "metadata": {},
   "source": [
    "Зададим [QuantumInstance](https://qiskit.org/documentation/stubs/qiskit.aqua.QuantumInstance.html) - бекэнд квантовой схемы, на котором будет исполняться модель. Параметр `shots` отвечает за число повторений эксперимента"
   ]
  },
  {
   "cell_type": "code",
   "execution_count": 2,
   "id": "fc2318cd-e2f4-4be4-a046-a7d736672785",
   "metadata": {},
   "outputs": [],
   "source": [
    "quantum_instance = QuantumInstance(Aer.get_backend('aer_simulator'), shots=1024)"
   ]
  },
  {
   "cell_type": "markdown",
   "id": "f5b1b671-916c-4988-9d68-5743ed7d8fe8",
   "metadata": {},
   "source": [
    "Сгенерируем облако двумерных точек - это и будут наши данные для задачи классификации"
   ]
  },
  {
   "cell_type": "code",
   "execution_count": 15,
   "id": "db368a39-e30d-41fd-84ce-88919201bf08",
   "metadata": {},
   "outputs": [],
   "source": [
    "num_inputs = 2\n",
    "num_samples = 20"
   ]
  },
  {
   "cell_type": "code",
   "execution_count": 42,
   "id": "b7ac767b-daed-40ce-8215-fb8b5ff32abc",
   "metadata": {},
   "outputs": [
    {
     "data": {
      "image/png": "[encoded data removed]",
      "text/plain": [
       "<Figure size 432x288 with 1 Axes>"
      ]
     },
     "metadata": {
      "needs_background": "light"
     },
     "output_type": "display_data"
    }
   ],
   "source": [
    "X = 2*np.random.rand(num_samples, num_inputs) - 1\n",
    "y01 = 1*(np.sum(X, axis=1) >= 0)  # in { 0,  1}\n",
    "y = 2*y01-1                       # in {-1, +1}\n",
    "y_one_hot = np.zeros((num_samples, 2))\n",
    "for i in range(num_samples):\n",
    "    y_one_hot[i, y01[i]] = 1\n",
    "\n",
    "for x, y_target in zip(X, y):\n",
    "    if y_target == 1:\n",
    "        plt.plot(x[0], x[1], 'bo')\n",
    "    else:\n",
    "        plt.plot(x[0], x[1], 'go')\n",
    "plt.plot([-1, 1], [1, -1], '--', color='black')\n",
    "plt.show()"
   ]
  },
  {
   "cell_type": "markdown",
   "id": "11f36ce0-2850-41ae-a339-45dea3f1d133",
   "metadata": {},
   "source": [
    "В туториале предлагаются три способа построения классификатора:\n",
    "* [CircuitQNN](#CircuitQNN)\n",
    "* [TwoLayerQNN](#TwoLayerQNN)\n",
    "\n",
    "Рассмотрим каждый из способов подробнее"
   ]
  },
  {
   "cell_type": "markdown",
   "id": "020dded2-a07d-490c-9a41-948b25eadff6",
   "metadata": {},
   "source": [
    "## CircuitQNN"
   ]
  },
  {
   "cell_type": "code",
   "execution_count": 4,
   "id": "2089bae3-0813-4104-b5f2-70248bafa0ee",
   "metadata": {},
   "outputs": [],
   "source": [
    "from qiskit_machine_learning.neural_networks import CircuitQNN"
   ]
  },
  {
   "cell_type": "code",
   "execution_count": 16,
   "id": "f871fd32-73b6-4be8-847c-ec2fee9ca64a",
   "metadata": {},
   "outputs": [],
   "source": [
    "ansatz = RealAmplitudes(num_inputs, reps=1)"
   ]
  },
  {
   "cell_type": "markdown",
   "id": "4bad3448-d3c2-41a6-a6aa-8e0e830246b2",
   "metadata": {},
   "source": [
    "[RealAmplitudes](https://qiskit.org/documentation/stubs/qiskit.circuit.library.RealAmplitudes.html) - эвристическая волновая функция, которая используется в качестве _анзаца_ в схемах классификаторов, а ещё в химических приложениях.\n",
    "\n",
    "> Анзац - термин из теоретической физики, который обозначает догадку о том, какую форму должно иметь решение некоторого уравнения, например вид функции, которой можно представить решение.\n",
    "\n",
    "Схема включает в себя последоватльность RY поворотов и CX запутанностей:"
   ]
  },
  {
   "cell_type": "code",
   "execution_count": 17,
   "id": "9f36c23b-8dc6-4634-b4d4-386fca6f4691",
   "metadata": {},
   "outputs": [
    {
     "name": "stdout",
     "output_type": "stream",
     "text": [
      "     ┌──────────┐     ┌──────────┐\n",
      "q_0: ┤ Ry(θ[0]) ├──■──┤ Ry(θ[2]) ├\n",
      "     ├──────────┤┌─┴─┐├──────────┤\n",
      "q_1: ┤ Ry(θ[1]) ├┤ X ├┤ Ry(θ[3]) ├\n",
      "     └──────────┘└───┘└──────────┘\n"
     ]
    }
   ],
   "source": [
    "print(ansatz)"
   ]
  },
  {
   "cell_type": "code",
   "execution_count": 18,
   "id": "1531b2de-1ae5-45e9-8ca5-9374460fc195",
   "metadata": {},
   "outputs": [
    {
     "data": {
      "image/png": "[encoded data removed]",
      "text/plain": [
       "<Figure size 267.052x144.48 with 1 Axes>"
      ]
     },
     "execution_count": 18,
     "metadata": {},
     "output_type": "execute_result"
    }
   ],
   "source": [
    "ansatz.draw(output='mpl')"
   ]
  },
  {
   "cell_type": "markdown",
   "id": "a1a70b18-7e6b-4880-bc2c-33bea3ab0946",
   "metadata": {},
   "source": [
    "Зададим карту признаков"
   ]
  },
  {
   "cell_type": "code",
   "execution_count": 19,
   "id": "bfbac67b-4e39-4cff-8319-f11c0a0e9a18",
   "metadata": {},
   "outputs": [],
   "source": [
    "feature_map = ZZFeatureMap(num_inputs)"
   ]
  },
  {
   "cell_type": "markdown",
   "id": "3ff56211-f3e8-40cb-aaba-62b6abc67909",
   "metadata": {},
   "source": [
    "[ZZFeatureMap](https://qiskit.org/documentation/stubs/qiskit.circuit.library.ZZFeatureMap.html) - схема Pauli-Z второго порядка.\n",
    "\n",
    "Схема Pauli Expansion, в свою очередь, это операция над входным вектором $x$:\n",
    "$$\n",
    "U_{\\Phi(\\vec{x})}=\\exp\\left(i\\sum_{S\\subseteq [n]}\n",
    "\\phi_S(\\vec{x})\\prod_{i\\in S} P_i\\right)\n",
    "$$"
   ]
  },
  {
   "cell_type": "code",
   "execution_count": 20,
   "id": "ddf1fbe0-bd94-4716-8d70-07ca5bfb6044",
   "metadata": {},
   "outputs": [
    {
     "name": "stdout",
     "output_type": "stream",
     "text": [
      "     ┌───┐┌──────────────┐                                           ┌───┐»\n",
      "q_0: ┤ H ├┤ U1(2.0*x[0]) ├──■─────────────────────────────────────■──┤ H ├»\n",
      "     ├───┤├──────────────┤┌─┴─┐┌───────────────────────────────┐┌─┴─┐├───┤»\n",
      "q_1: ┤ H ├┤ U1(2.0*x[1]) ├┤ X ├┤ U1(2.0*(π - x[0])*(π - x[1])) ├┤ X ├┤ H ├»\n",
      "     └───┘└──────────────┘└───┘└───────────────────────────────┘└───┘└───┘»\n",
      "«     ┌──────────────┐                                           \n",
      "«q_0: ┤ U1(2.0*x[0]) ├──■─────────────────────────────────────■──\n",
      "«     ├──────────────┤┌─┴─┐┌───────────────────────────────┐┌─┴─┐\n",
      "«q_1: ┤ U1(2.0*x[1]) ├┤ X ├┤ U1(2.0*(π - x[0])*(π - x[1])) ├┤ X ├\n",
      "«     └──────────────┘└───┘└───────────────────────────────┘└───┘\n"
     ]
    }
   ],
   "source": [
    "print(feature_map)"
   ]
  },
  {
   "cell_type": "markdown",
   "id": "b5f83d18-1b45-47f7-b0a7-44efd459c128",
   "metadata": {},
   "source": [
    "Инициализируем схему из заданных элементов:"
   ]
  },
  {
   "cell_type": "code",
   "execution_count": 21,
   "id": "3a54cc3f-04dd-48f5-87e4-e45ecb1c23d8",
   "metadata": {},
   "outputs": [
    {
     "data": {
      "image/png": "[encoded data removed]",
      "text/plain": [
       "<Figure size 447.652x144.48 with 1 Axes>"
      ]
     },
     "execution_count": 21,
     "metadata": {},
     "output_type": "execute_result"
    }
   ],
   "source": [
    "# construct quantum circuit\n",
    "qc = QuantumCircuit(num_inputs)\n",
    "qc.append(feature_map, range(num_inputs))\n",
    "qc.append(ansatz, range(num_inputs))\n",
    "qc.decompose().draw(output='mpl')"
   ]
  },
  {
   "cell_type": "markdown",
   "id": "ca128dd8-4555-4b32-8152-7e995efdb995",
   "metadata": {},
   "source": [
    "Таким образом, у нас есть \"слой\" схемы с некоторым преобразованием входного вектора $x$ и \"слой\", отвечающий непосредственно за классификацию"
   ]
  },
  {
   "cell_type": "markdown",
   "id": "995b3b3a-8777-49c6-b633-54083504924f",
   "metadata": {},
   "source": [
    "Функция-утилита, которая проверяет чётность суммы единиц в двоичном представлении числа"
   ]
  },
  {
   "cell_type": "code",
   "execution_count": 39,
   "id": "ce903cbd-96b7-4bf1-a466-05d6041e1b96",
   "metadata": {},
   "outputs": [
    {
     "data": {
      "text/plain": [
       "'1011'"
      ]
     },
     "execution_count": 39,
     "metadata": {},
     "output_type": "execute_result"
    }
   ],
   "source": [
    "'{:b}'.format(11)"
   ]
  },
  {
   "cell_type": "code",
   "execution_count": 24,
   "id": "a9fb7e56-0e9b-43ca-9b98-c0fa003877e5",
   "metadata": {},
   "outputs": [],
   "source": [
    "# parity maps bitstrings to 0 or 1\n",
    "def parity(x):\n",
    "    return '{:b}'.format(x).count('1') % 2"
   ]
  },
  {
   "cell_type": "markdown",
   "id": "7ae67ed8-532a-403b-8885-a5453e46b1d5",
   "metadata": {},
   "source": [
    "Размерность выхода равна 2 (бинарная классификация)"
   ]
  },
  {
   "cell_type": "code",
   "execution_count": 25,
   "id": "9ccf7a40-854a-4d0f-a1e3-0fb9b805dca3",
   "metadata": {},
   "outputs": [],
   "source": [
    "output_shape = 2  # corresponds to the number of classes, possible outcomes of the (parity) mapping."
   ]
  },
  {
   "cell_type": "markdown",
   "id": "cb6fe599-05f5-424f-b492-259ab97712ed",
   "metadata": {},
   "source": [
    "Переходим к более высокоуровневой абстракции - [CircuitQNN](https://qiskit.org/documentation/machine-learning/stubs/qiskit_machine_learning.neural_networks.CircuitQNN.html), которая строит нейронную сеть на основе заданных размерностей и схемы"
   ]
  },
  {
   "cell_type": "code",
   "execution_count": 40,
   "id": "26263e40-5e5c-4d23-97ed-f06bda799570",
   "metadata": {},
   "outputs": [],
   "source": [
    "# construct QNN\n",
    "circuit_qnn = CircuitQNN(circuit=qc,\n",
    "                         input_params=feature_map.parameters,\n",
    "                         weight_params=ansatz.parameters,\n",
    "                         interpret=parity,\n",
    "                         output_shape=output_shape,\n",
    "                         quantum_instance=quantum_instance)"
   ]
  },
  {
   "cell_type": "markdown",
   "id": "a3090a04-38d8-4e13-aa2e-9b0f74a3c5f1",
   "metadata": {},
   "source": [
    "Добавляем нашей НН специфики и превращаем ещё в классификатор [NeuralNetworkClassifier](https://qiskit.org/documentation/machine-learning/stubs/qiskit_machine_learning.algorithms.NeuralNetworkClassifier.html). Эта обёртка предоставляет `fit()/predict()` интерфейс, а также позвояет задать оптимизатор. В нашем случае этот оптимизатор [COBYLA](https://qiskit.org/documentation/stubs/qiskit.aqua.components.optimizers.COBYLA.html):  Constrained Optimization BY Linear Approximation (COBYLA) algorithm. Этот алгоритм [представлен](https://docs.scipy.org/doc/scipy/reference/optimize.minimize-cobyla.html#optimize-minimize-cobyla) и в SciPy  "
   ]
  },
  {
   "cell_type": "code",
   "execution_count": 44,
   "id": "60646905-96ff-40e2-bf5d-4d2c04a5c760",
   "metadata": {},
   "outputs": [],
   "source": [
    "# construct classifier\n",
    "circuit_classifier = NeuralNetworkClassifier(neural_network=circuit_qnn,\n",
    "                                             optimizer=COBYLA(),\n",
    "                                             callback=callback_graph)"
   ]
  },
  {
   "cell_type": "markdown",
   "id": "a3de3352-f6d0-490c-8aae-5fba581f1200",
   "metadata": {},
   "source": [
    "Функция-утилита, чтобы отрисовывать целевую функцию во время обучения"
   ]
  },
  {
   "cell_type": "code",
   "execution_count": 43,
   "id": "8651146c-7613-4592-b9ed-6fdd8452546a",
   "metadata": {},
   "outputs": [],
   "source": [
    "# callback function that draws a live plot when the .fit() method is called\n",
    "def callback_graph(weights, obj_func_eval):\n",
    "    clear_output(wait=True)\n",
    "    objective_func_vals.append(obj_func_eval)\n",
    "    plt.title(\"Objective function value against iteration\")\n",
    "    plt.xlabel(\"Iteration\")\n",
    "    plt.ylabel(\"Objective function value\")\n",
    "    plt.plot(range(len(objective_func_vals)), objective_func_vals)\n",
    "    plt.show()"
   ]
  },
  {
   "cell_type": "code",
   "execution_count": 45,
   "id": "352cfff8-4d51-4285-a3cf-447ddd906585",
   "metadata": {},
   "outputs": [],
   "source": [
    "# create empty array for callback to store evaluations of the objective function\n",
    "objective_func_vals = []\n",
    "plt.rcParams[\"figure.figsize\"] = (12, 6)"
   ]
  },
  {
   "cell_type": "markdown",
   "id": "8a7924b1-8047-40de-95cc-257b9c705d5b",
   "metadata": {},
   "source": [
    "Запускаем обучение:"
   ]
  },
  {
   "cell_type": "code",
   "execution_count": 49,
   "id": "22c0d65f-3c0b-4c74-bfaa-62d6bb647fda",
   "metadata": {},
   "outputs": [
    {
     "data": {
      "image/png": "[encoded data removed]",
      "text/plain": [
       "<Figure size 864x432 with 1 Axes>"
      ]
     },
     "metadata": {
      "needs_background": "light"
     },
     "output_type": "display_data"
    },
    {
     "data": {
      "text/plain": [
       "<qiskit_machine_learning.algorithms.classifiers.neural_network_classifier.NeuralNetworkClassifier at 0x7efcd5c7b070>"
      ]
     },
     "execution_count": 49,
     "metadata": {},
     "output_type": "execute_result"
    }
   ],
   "source": [
    "# fit classifier to data\n",
    "circuit_classifier.fit(X, y01)"
   ]
  },
  {
   "cell_type": "code",
   "execution_count": 50,
   "id": "8fa4019c-e5f3-4874-804f-678748c7d4d5",
   "metadata": {},
   "outputs": [],
   "source": [
    "# return to default figsize\n",
    "plt.rcParams[\"figure.figsize\"] = (6, 4)"
   ]
  },
  {
   "cell_type": "markdown",
   "id": "29f5c117-2735-4ef9-99d8-32b1a8a2c6d4",
   "metadata": {},
   "source": [
    "... и `predict()`:"
   ]
  },
  {
   "cell_type": "code",
   "execution_count": 51,
   "id": "d777de8c-12fa-4212-8ad7-8d3077af7cb7",
   "metadata": {},
   "outputs": [
    {
     "data": {
      "text/plain": [
       "0.7"
      ]
     },
     "execution_count": 51,
     "metadata": {},
     "output_type": "execute_result"
    }
   ],
   "source": [
    "# score classifier\n",
    "circuit_classifier.score(X, y01)"
   ]
  },
  {
   "cell_type": "markdown",
   "id": "6fd63664-e76a-41da-a2d4-d42f8a50aa2d",
   "metadata": {},
   "source": [
    "Посмотрим, на каких точках классификатор ошибся:"
   ]
  },
  {
   "cell_type": "code",
   "execution_count": 52,
   "id": "94597454-9882-4331-a095-ed007b877d7e",
   "metadata": {},
   "outputs": [
    {
     "data": {
      "image/png": "[encoded data removed]",
      "text/plain": [
       "<Figure size 432x288 with 1 Axes>"
      ]
     },
     "metadata": {
      "needs_background": "light"
     },
     "output_type": "display_data"
    }
   ],
   "source": [
    "# evaluate data points\n",
    "y_predict = circuit_classifier.predict(X)\n",
    "\n",
    "# plot results\n",
    "# red == wrongly classified\n",
    "for x, y_target, y_p in zip(X, y01, y_predict):\n",
    "    if y_target == 1:\n",
    "        plt.plot(x[0], x[1], 'bo')\n",
    "    else:\n",
    "        plt.plot(x[0], x[1], 'go')\n",
    "    if y_target != y_p:\n",
    "        plt.scatter(x[0], x[1], s=200, facecolors='none', edgecolors='r', linewidths=2)\n",
    "plt.plot([-1, 1], [1, -1], '--', color='black')\n",
    "plt.show()"
   ]
  },
  {
   "cell_type": "markdown",
   "id": "9602e1b8-ae8f-4f17-9f60-ea3dd68e658b",
   "metadata": {},
   "source": [
    "## TwoLayerQNN"
   ]
  },
  {
   "cell_type": "markdown",
   "id": "4e34d5d3-c382-46e1-a0e9-dc1e5264e3c0",
   "metadata": {},
   "source": [
    "Рассмотрим более высокоуровневое API для создания классификатора. Класс [TwoLayerQNN](https://qiskit.org/documentation/machine-learning/stubs/qiskit_machine_learning.neural_networks.TwoLayerQNN.html) - двухслойная QNN, которая уже включает в себя и карту признаков (feature map), и анзац (ansatz)"
   ]
  },
  {
   "cell_type": "code",
   "execution_count": 73,
   "id": "f43c9292-16c5-490a-bcdd-9d65e06119f7",
   "metadata": {},
   "outputs": [],
   "source": [
    "# construct QNN\n",
    "opflow_qnn = TwoLayerQNN(num_inputs, quantum_instance=quantum_instance)"
   ]
  },
  {
   "cell_type": "code",
   "execution_count": 74,
   "id": "44e97760-61b4-4870-9354-28be5efc5a4f",
   "metadata": {},
   "outputs": [
    {
     "data": {
      "text/plain": [
       "8"
      ]
     },
     "execution_count": 74,
     "metadata": {},
     "output_type": "execute_result"
    }
   ],
   "source": [
    "opflow_qnn.num_weights"
   ]
  },
  {
   "cell_type": "markdown",
   "id": "1510e340-7522-48c0-9471-3cd421edc72a",
   "metadata": {},
   "source": [
    "Попробуем пропустить через классификатор одну точку. В качестве весов сгенерируем случайные числа"
   ]
  },
  {
   "cell_type": "code",
   "execution_count": 75,
   "id": "d8ce30e3-eada-451e-ba9e-672a82c45b04",
   "metadata": {},
   "outputs": [
    {
     "data": {
      "text/plain": [
       "array([ 0.94534464, -0.38709299])"
      ]
     },
     "execution_count": 75,
     "metadata": {},
     "output_type": "execute_result"
    }
   ],
   "source": [
    "X[0, :]"
   ]
  },
  {
   "cell_type": "code",
   "execution_count": 76,
   "id": "8eb66723-3fa4-4a9d-b60c-cf78571254c7",
   "metadata": {},
   "outputs": [
    {
     "data": {
      "text/plain": [
       "array([[0.63476562]])"
      ]
     },
     "execution_count": 76,
     "metadata": {},
     "output_type": "execute_result"
    }
   ],
   "source": [
    "# QNN maps inputs to [-1, +1]\n",
    "opflow_qnn.forward(X[0, :], np.random.rand(opflow_qnn.num_weights))"
   ]
  },
  {
   "cell_type": "markdown",
   "id": "a9b0cd0e-ea96-4f9f-8b60-e759209a7378",
   "metadata": {},
   "source": [
    "выход можно трактовать как метку класса"
   ]
  },
  {
   "cell_type": "markdown",
   "id": "bccff0a3-a519-4b3a-b9ad-18106edd6b02",
   "metadata": {},
   "source": [
    "Применим знакомую обёртку для создания классификатора NeuralNetworkClassifier:"
   ]
  },
  {
   "cell_type": "code",
   "execution_count": 77,
   "id": "c0f3dc93-31e6-47a4-8226-9fc2b3ce7be8",
   "metadata": {},
   "outputs": [],
   "source": [
    "# construct neural network classifier\n",
    "opflow_classifier = NeuralNetworkClassifier(opflow_qnn, optimizer=COBYLA(), callback=callback_graph)"
   ]
  },
  {
   "cell_type": "markdown",
   "id": "32a935bf-f6c8-49d1-939a-2a7fd374d0b5",
   "metadata": {},
   "source": [
    "... и запустим обучение:"
   ]
  },
  {
   "cell_type": "code",
   "execution_count": 78,
   "id": "7350c3e5-bf85-4e8f-b01d-7ca19f07359a",
   "metadata": {},
   "outputs": [
    {
     "data": {
      "image/png": "[encoded data removed]",
      "text/plain": [
       "<Figure size 864x432 with 1 Axes>"
      ]
     },
     "metadata": {
      "needs_background": "light"
     },
     "output_type": "display_data"
    }
   ],
   "source": [
    "# create empty array for callback to store evaluations of the objective function\n",
    "objective_func_vals = []\n",
    "plt.rcParams[\"figure.figsize\"] = (12, 6)\n",
    "\n",
    "# fit classifier to data\n",
    "opflow_classifier.fit(X, y)\n",
    "\n",
    "# return to default figsize\n",
    "plt.rcParams[\"figure.figsize\"] = (6, 4)"
   ]
  },
  {
   "cell_type": "markdown",
   "id": "8e15f546-6c1f-4063-ab3c-8c2e526306c6",
   "metadata": {},
   "source": [
    "Результат:"
   ]
  },
  {
   "cell_type": "code",
   "execution_count": 79,
   "id": "4c0e69ed-4937-45ad-a504-90f6f66f581d",
   "metadata": {},
   "outputs": [
    {
     "data": {
      "text/plain": [
       "0.75"
      ]
     },
     "execution_count": 79,
     "metadata": {},
     "output_type": "execute_result"
    }
   ],
   "source": [
    "# score classifier\n",
    "opflow_classifier.score(X, y)"
   ]
  },
  {
   "cell_type": "markdown",
   "id": "2413d4d9-934d-4c5a-9535-9ff99530895b",
   "metadata": {},
   "source": [
    "Посмотрим на ошибки:"
   ]
  },
  {
   "cell_type": "code",
   "execution_count": 80,
   "id": "b5ed1a19-ec05-4851-a173-b9520cd1f005",
   "metadata": {},
   "outputs": [
    {
     "data": {
      "image/png": "[encoded data removed]",
      "text/plain": [
       "<Figure size 432x288 with 1 Axes>"
      ]
     },
     "metadata": {
      "needs_background": "light"
     },
     "output_type": "display_data"
    }
   ],
   "source": [
    "# evaluate data points\n",
    "y_predict = opflow_classifier.predict(X)\n",
    "\n",
    "# plot results\n",
    "# red == wrongly classified\n",
    "for x, y_target, y_p in zip(X, y, y_predict):\n",
    "    if y_target == 1:\n",
    "        plt.plot(x[0], x[1], 'bo')\n",
    "    else:\n",
    "        plt.plot(x[0], x[1], 'go')\n",
    "    if y_target != y_p:\n",
    "        plt.scatter(x[0], x[1], s=200, facecolors='none', edgecolors='r', linewidths=2)\n",
    "plt.plot([-1, 1], [1, -1], '--', color='black')\n",
    "plt.show()"
   ]
  }
 ],
 "metadata": {
  "kernelspec": {
   "display_name": "Python 3 (ipykernel)",
   "language": "python",
   "name": "python3"
  },
  "language_info": {
   "codemirror_mode": {
    "name": "ipython",
    "version": 3
   },
   "file_extension": ".py",
   "mimetype": "text/x-python",
   "name": "python",
   "nbconvert_exporter": "python",
   "pygments_lexer": "ipython3",
   "version": "3.9.6"
  }
 },
 "nbformat": 4,
 "nbformat_minor": 5
}
