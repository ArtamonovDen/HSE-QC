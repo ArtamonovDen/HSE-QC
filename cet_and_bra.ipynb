{
 "cells": [
  {
   "cell_type": "markdown",
   "id": "dba4e96b-798e-4261-8214-1e0c0b2ed28e",
   "metadata": {},
   "source": [
    "# Representing qubit state"
   ]
  },
  {
   "cell_type": "markdown",
   "id": "d21450c1-418e-4e8d-95fd-b96803979a06",
   "metadata": {},
   "source": [
    "[Введение](https://qiskit.org/textbook/ch-states/introduction.html)"
   ]
  },
  {
   "cell_type": "markdown",
   "id": "b19ad647-6f22-4fd8-8153-acb20af2bd5e",
   "metadata": {},
   "source": [
    "[Понятние state vector](https://qiskit.org/textbook/ch-states/representing-qubit-states.html)\n",
    "\n",
    "Вектор состояния кубита выражается через суперпозицию векторов состаяния $|0⟩$ и $|1⟩$:\n",
    "$$q = \\alpha|0⟩ + \\alpha|1⟩ $$, \n",
    "где $|0⟩$ - вектор состояния 0: $|0⟩  = [1,0]$ (нулевая позиция в векторе - единица), $|1⟩  = [0,1]$ (первая позиция в векторе  - единица)\n"
   ]
  },
  {
   "cell_type": "code",
   "execution_count": 1,
   "id": "c1ccf1b6-4cdf-48eb-9c55-d8bf99b1e49e",
   "metadata": {},
   "outputs": [],
   "source": [
    "from qiskit import QuantumCircuit, assemble, Aer\n",
    "from qiskit.visualization import plot_histogram, plot_bloch_vector\n",
    "from math import sqrt, pi"
   ]
  },
  {
   "cell_type": "code",
   "execution_count": 11,
   "id": "8894a082-04c1-48b2-a9a2-4949b36bd830",
   "metadata": {},
   "outputs": [],
   "source": [
    "qc = QuantumCircuit(1) # Create a quantum circuit with one qubit\n"
   ]
  },
  {
   "cell_type": "code",
   "execution_count": 12,
   "id": "d6275914-ff57-44d5-9fbb-66fd506520a1",
   "metadata": {},
   "outputs": [
    {
     "data": {
      "image/png": "[encoded data removed]",
      "text/plain": [
       "<Figure size 133.526x84.28 with 1 Axes>"
      ]
     },
     "execution_count": 12,
     "metadata": {},
     "output_type": "execute_result"
    }
   ],
   "source": [
    "initial_state = [0,1]   # Define initial_state as |1>\n",
    "qc.initialize(initial_state, 0) # Apply initialisation operation to the 0th qubit\n",
    "qc.draw(output=\"mpl\")  # Let's view our circuit"
   ]
  },
  {
   "cell_type": "code",
   "execution_count": 13,
   "id": "ba77a80f-12b6-4735-9f4b-9437d9229151",
   "metadata": {},
   "outputs": [
    {
     "ename": "QiskitError",
     "evalue": "'Sum of amplitudes-squared does not equal one.'",
     "output_type": "error",
     "traceback": [
      "\u001b[0;31m---------------------------------------------------------------------------\u001b[0m",
      "\u001b[0;31mQiskitError\u001b[0m                               Traceback (most recent call last)",
      "\u001b[0;32m/tmp/ipykernel_2806/2561124497.py\u001b[0m in \u001b[0;36m<module>\u001b[0;34m\u001b[0m\n\u001b[1;32m      1\u001b[0m \u001b[0minitial_state\u001b[0m \u001b[0;34m=\u001b[0m \u001b[0;34m[\u001b[0m\u001b[0;36m1\u001b[0m\u001b[0;34m,\u001b[0m\u001b[0;36m1\u001b[0m\u001b[0;34m]\u001b[0m   \u001b[0;31m# Define initial_state as |1>\u001b[0m\u001b[0;34m\u001b[0m\u001b[0;34m\u001b[0m\u001b[0m\n\u001b[0;32m----> 2\u001b[0;31m \u001b[0mqc\u001b[0m\u001b[0;34m.\u001b[0m\u001b[0minitialize\u001b[0m\u001b[0;34m(\u001b[0m\u001b[0minitial_state\u001b[0m\u001b[0;34m,\u001b[0m \u001b[0;36m0\u001b[0m\u001b[0;34m)\u001b[0m \u001b[0;31m# Apply initialisation operation to the 0th qubit\u001b[0m\u001b[0;34m\u001b[0m\u001b[0;34m\u001b[0m\u001b[0m\n\u001b[0m\u001b[1;32m      3\u001b[0m \u001b[0mqc\u001b[0m\u001b[0;34m.\u001b[0m\u001b[0mdraw\u001b[0m\u001b[0;34m(\u001b[0m\u001b[0moutput\u001b[0m\u001b[0;34m=\u001b[0m\u001b[0;34m\"mpl\"\u001b[0m\u001b[0;34m)\u001b[0m  \u001b[0;31m# Let's view our circuit\u001b[0m\u001b[0;34m\u001b[0m\u001b[0;34m\u001b[0m\u001b[0m\n",
      "\u001b[0;32m~/HSE/HSE-QC/venv/lib/python3.9/site-packages/qiskit/extensions/quantum_initializer/initializer.py\u001b[0m in \u001b[0;36minitialize\u001b[0;34m(self, params, qubits)\u001b[0m\n\u001b[1;32m    457\u001b[0m \u001b[0;34m\u001b[0m\u001b[0m\n\u001b[1;32m    458\u001b[0m     \u001b[0mnum_qubits\u001b[0m \u001b[0;34m=\u001b[0m \u001b[0;32mNone\u001b[0m \u001b[0;32mif\u001b[0m \u001b[0;32mnot\u001b[0m \u001b[0misinstance\u001b[0m\u001b[0;34m(\u001b[0m\u001b[0mparams\u001b[0m\u001b[0;34m,\u001b[0m \u001b[0mint\u001b[0m\u001b[0;34m)\u001b[0m \u001b[0;32melse\u001b[0m \u001b[0mlen\u001b[0m\u001b[0;34m(\u001b[0m\u001b[0mqubits\u001b[0m\u001b[0;34m)\u001b[0m\u001b[0;34m\u001b[0m\u001b[0;34m\u001b[0m\u001b[0m\n\u001b[0;32m--> 459\u001b[0;31m     \u001b[0;32mreturn\u001b[0m \u001b[0mself\u001b[0m\u001b[0;34m.\u001b[0m\u001b[0mappend\u001b[0m\u001b[0;34m(\u001b[0m\u001b[0mInitialize\u001b[0m\u001b[0;34m(\u001b[0m\u001b[0mparams\u001b[0m\u001b[0;34m,\u001b[0m \u001b[0mnum_qubits\u001b[0m\u001b[0;34m)\u001b[0m\u001b[0;34m,\u001b[0m \u001b[0mqubits\u001b[0m\u001b[0;34m)\u001b[0m\u001b[0;34m\u001b[0m\u001b[0;34m\u001b[0m\u001b[0m\n\u001b[0m\u001b[1;32m    460\u001b[0m \u001b[0;34m\u001b[0m\u001b[0m\n\u001b[1;32m    461\u001b[0m \u001b[0;34m\u001b[0m\u001b[0m\n",
      "\u001b[0;32m~/HSE/HSE-QC/venv/lib/python3.9/site-packages/qiskit/extensions/quantum_initializer/initializer.py\u001b[0m in \u001b[0;36m__init__\u001b[0;34m(self, params, num_qubits)\u001b[0m\n\u001b[1;32m     90\u001b[0m             \u001b[0;31m# Check if probabilities (amplitudes squared) sum to 1\u001b[0m\u001b[0;34m\u001b[0m\u001b[0;34m\u001b[0m\u001b[0;34m\u001b[0m\u001b[0m\n\u001b[1;32m     91\u001b[0m             \u001b[0;32mif\u001b[0m \u001b[0;32mnot\u001b[0m \u001b[0mmath\u001b[0m\u001b[0;34m.\u001b[0m\u001b[0misclose\u001b[0m\u001b[0;34m(\u001b[0m\u001b[0msum\u001b[0m\u001b[0;34m(\u001b[0m\u001b[0mnp\u001b[0m\u001b[0;34m.\u001b[0m\u001b[0mabsolute\u001b[0m\u001b[0;34m(\u001b[0m\u001b[0mparams\u001b[0m\u001b[0;34m)\u001b[0m \u001b[0;34m**\u001b[0m \u001b[0;36m2\u001b[0m\u001b[0;34m)\u001b[0m\u001b[0;34m,\u001b[0m \u001b[0;36m1.0\u001b[0m\u001b[0;34m,\u001b[0m \u001b[0mabs_tol\u001b[0m\u001b[0;34m=\u001b[0m\u001b[0m_EPS\u001b[0m\u001b[0;34m)\u001b[0m\u001b[0;34m:\u001b[0m\u001b[0;34m\u001b[0m\u001b[0;34m\u001b[0m\u001b[0m\n\u001b[0;32m---> 92\u001b[0;31m                 \u001b[0;32mraise\u001b[0m \u001b[0mQiskitError\u001b[0m\u001b[0;34m(\u001b[0m\u001b[0;34m\"Sum of amplitudes-squared does not equal one.\"\u001b[0m\u001b[0;34m)\u001b[0m\u001b[0;34m\u001b[0m\u001b[0;34m\u001b[0m\u001b[0m\n\u001b[0m\u001b[1;32m     93\u001b[0m \u001b[0;34m\u001b[0m\u001b[0m\n\u001b[1;32m     94\u001b[0m             \u001b[0mnum_qubits\u001b[0m \u001b[0;34m=\u001b[0m \u001b[0mint\u001b[0m\u001b[0;34m(\u001b[0m\u001b[0mnum_qubits\u001b[0m\u001b[0;34m)\u001b[0m\u001b[0;34m\u001b[0m\u001b[0;34m\u001b[0m\u001b[0m\n",
      "\u001b[0;31mQiskitError\u001b[0m: 'Sum of amplitudes-squared does not equal one.'"
     ]
    }
   ],
   "source": [
    "initial_state = [1,1]   # Define initial_state as |1>\n",
    "qc.initialize(initial_state, 0) # Apply initialisation operation to the 0th qubit\n",
    "qc.draw(output=\"mpl\")  # Let's view our circuit"
   ]
  },
  {
   "cell_type": "markdown",
   "id": "e54b1fbb-568f-4b6d-8664-0f322d33f4e2",
   "metadata": {},
   "source": [
    "Запустим на симуляторе"
   ]
  },
  {
   "cell_type": "code",
   "execution_count": 14,
   "id": "e3c36113-5bbb-4589-a031-c06c2cbacb29",
   "metadata": {},
   "outputs": [],
   "source": [
    "sim = Aer.get_backend('aer_simulator')  # Tell Qiskit how to simulate our circuit"
   ]
  },
  {
   "cell_type": "code",
   "execution_count": 22,
   "id": "f7022c82-8b5d-47c8-858e-ec3e23bce913",
   "metadata": {},
   "outputs": [],
   "source": [
    "qc = QuantumCircuit(1)  # Create a quantum circuit with one qubit\n",
    "initial_state = [0,1]   # Define initial_state as |1>\n",
    "qc.initialize(initial_state, 0) # Apply initialisation operation to the 0th qubit\n",
    "qc.save_statevector()   # Tell simulator to save statevector\n",
    "qobj = assemble(qc)     # Create a Qobj from the circuit for the simulator to run\n",
    "result = sim.run(qobj).result() # Do the simulation and return the result"
   ]
  },
  {
   "cell_type": "code",
   "execution_count": 23,
   "id": "45bab71e-3193-49a4-8f7a-0b6b020f083d",
   "metadata": {},
   "outputs": [
    {
     "name": "stdout",
     "output_type": "stream",
     "text": [
      "[0.+0.j 1.+0.j]\n"
     ]
    }
   ],
   "source": [
    "out_state = result.get_statevector()\n",
    "print(out_state) # Display the output state vector"
   ]
  },
  {
   "cell_type": "code",
   "execution_count": 24,
   "id": "093f5dfe-ef36-404e-b99e-0ce0e0336ce8",
   "metadata": {},
   "outputs": [
    {
     "data": {
      "image/png": "[encoded data removed]",
      "text/plain": [
       "<Figure size 357.679x144.48 with 1 Axes>"
      ]
     },
     "execution_count": 24,
     "metadata": {},
     "output_type": "execute_result"
    }
   ],
   "source": [
    "qc.measure_all()\n",
    "qc.draw(output=\"mpl\")"
   ]
  },
  {
   "cell_type": "code",
   "execution_count": 25,
   "id": "1111fa0c-ba52-48b7-baff-6b1e9a3aac05",
   "metadata": {},
   "outputs": [
    {
     "data": {
      "image/png": "[encoded data removed]",
      "text/plain": [
       "<Figure size 504x360 with 1 Axes>"
      ]
     },
     "execution_count": 25,
     "metadata": {},
     "output_type": "execute_result"
    }
   ],
   "source": [
    "qobj = assemble(qc)\n",
    "result = sim.run(qobj).result()\n",
    "counts = result.get_counts()\n",
    "plot_histogram(counts)"
   ]
  },
  {
   "cell_type": "markdown",
   "id": "93d73679-edd0-481e-afee-d65025cc4a0c",
   "metadata": {},
   "source": [
    "Кубит принимает значение единицы, что мы и ожидали, когда инициализировали его вектором $|1⟩$"
   ]
  },
  {
   "cell_type": "markdown",
   "id": "52912939-ea9c-4ac4-9db0-b783c4a5d5dc",
   "metadata": {},
   "source": [
    "Попробуем другой вектор:"
   ]
  },
  {
   "cell_type": "code",
   "execution_count": 26,
   "id": "f36d09a7-9dc8-4144-be09-144d17fbcc41",
   "metadata": {},
   "outputs": [],
   "source": [
    "initial_state = [1/sqrt(2), 1j/sqrt(2)]  # Define state |q_0>"
   ]
  },
  {
   "cell_type": "code",
   "execution_count": 31,
   "id": "1b434133-fbc5-451f-9a2c-29cfb2ba9c9c",
   "metadata": {},
   "outputs": [
    {
     "name": "stdout",
     "output_type": "stream",
     "text": [
      "[0.70710678+0.j         0.        +0.70710678j]\n"
     ]
    }
   ],
   "source": [
    "qc = QuantumCircuit(1) # Must redefine qc\n",
    "qc.initialize(initial_state, 0) # Initialize the 0th qubit in the state `initial_state`\n",
    "qc.save_statevector() # Save statevector\n",
    "qobj = assemble(qc)\n",
    "state = sim.run(qobj).result().get_statevector() # Execute the circuit\n",
    "print(state)           # Print the result"
   ]
  },
  {
   "cell_type": "code",
   "execution_count": 32,
   "id": "09a0a036-de2e-48b5-a79c-00fe185e72dd",
   "metadata": {},
   "outputs": [
    {
     "data": {
      "image/png": "[encoded data removed]",
      "text/plain": [
       "<Figure size 504x360 with 1 Axes>"
      ]
     },
     "execution_count": 32,
     "metadata": {},
     "output_type": "execute_result"
    }
   ],
   "source": [
    "qobj = assemble(qc)\n",
    "results = sim.run(qobj).result().get_counts()\n",
    "plot_histogram(results)"
   ]
  },
  {
   "cell_type": "markdown",
   "id": "c6bdcd32-b555-4331-8bfb-7f54128a3aca",
   "metadata": {},
   "source": [
    "Получается, мы можем прочитать кубит как 1 и как 0 с равной вероятностью"
   ]
  },
  {
   "cell_type": "markdown",
   "id": "f8305e6f-b8ca-4a66-b121-09cbe42c7775",
   "metadata": {},
   "source": [
    "Как получить **вероятность** того, что кубит примет определённое состояние (вектор состояния) $|x⟩$?\n",
    "\n",
    "Вероятность определяется по формуле:\n",
    "\n",
    "$$\n",
    "p(|x⟩) = |⟨x, \\psi⟩| ^2\n",
    "$$\n",
    "где\n",
    "* $|x⟩$ -  вектор столбец (ket)\n",
    "* $⟨x|$ -  вектор строка (bra)\n",
    "* ⟨a, b⟩ - скалярное произведение"
   ]
  },
  {
   "cell_type": "markdown",
   "id": "e5fbe3d5-ec79-4e8d-8b23-e61db66bfd21",
   "metadata": {},
   "source": [
    "Тогда чтобы рассчитать вероятность, что кубит примет состояние $|0⟩=[1,0]$\\, если ветор состояния кубита равен: \n",
    "$$|q_0⟩ = \\frac{1}{\\sqrt{2}} |0⟩ + \\frac{i}{\\sqrt{2}}|1⟩$$\n",
    "\n",
    "нужно рассчитать произведение:\n",
    "$$\n",
    " |⟨0,q_0⟩| = \\frac{1}{\\sqrt{2}}⟨0|0⟩+ \\frac{i}{\\sqrt{2}}⟨0|1⟩ =  \\frac{1}{\\sqrt{2}}\n",
    "$$ \n",
    "и возвести в квадрат: \n",
    "$$\n",
    "(\\frac{1}{\\sqrt{2}})^2 = \\frac{1}{2}\n",
    "$$"
   ]
  },
  {
   "cell_type": "markdown",
   "id": "4dad0015-666c-4fa5-a988-a2fe0891fe95",
   "metadata": {},
   "source": [
    "Интересн, если бы мы взяли x=⟨1|, то вероятность бы получилась равной $-\\frac{1}{2}$"
   ]
  },
  {
   "cell_type": "markdown",
   "id": "2e59876f-aed9-417f-ae54-3ce12516f94b",
   "metadata": {},
   "source": [
    "Попрубем сделать вероятность \"выпадения\" единицы равной $\\frac{1}{3}$"
   ]
  },
  {
   "cell_type": "code",
   "execution_count": 52,
   "id": "0cc9390d-b96c-40a9-b306-4a86044beddc",
   "metadata": {},
   "outputs": [
    {
     "name": "stdout",
     "output_type": "stream",
     "text": [
      "[0.57735027+0.j 0.81649658+0.j]\n"
     ]
    }
   ],
   "source": [
    "initial_state = [1/sqrt(3), sqrt(2)/sqrt(3)]  # Define state |q_0>\n",
    "qc = QuantumCircuit(1) # Must redefine qc\n",
    "qc.initialize(initial_state, 0) # Initialize the 0th qubit in the state `initial_state`\n",
    "qc.save_statevector() # Save statevector\n",
    "qobj = assemble(qc)\n",
    "state = sim.run(qobj).result().get_statevector() # Execute the circuit\n",
    "print(state)           # Print the result"
   ]
  },
  {
   "cell_type": "code",
   "execution_count": 51,
   "id": "4811da30-debb-4cd4-b808-13067e5f8aec",
   "metadata": {},
   "outputs": [
    {
     "data": {
      "image/png": "[encoded data removed]",
      "text/plain": [
       "<Figure size 504x360 with 1 Axes>"
      ]
     },
     "execution_count": 51,
     "metadata": {},
     "output_type": "execute_result"
    }
   ],
   "source": [
    "qobj = assemble(qc)\n",
    "results = sim.run(qobj).result().get_counts()\n",
    "plot_histogram(results)"
   ]
  },
  {
   "cell_type": "code",
   "execution_count": 47,
   "id": "39cda794-ba4b-4151-8147-4608c8216cb5",
   "metadata": {},
   "outputs": [
    {
     "data": {
      "text/plain": [
       "(0.3333333333333334+0j)"
      ]
     },
     "execution_count": 47,
     "metadata": {},
     "output_type": "execute_result"
    }
   ],
   "source": [
    "(1j/sqrt(3))**2 + (sqrt(2)/sqrt(3))**2"
   ]
  },
  {
   "cell_type": "markdown",
   "id": "2b517541-9dc1-4653-9323-4d39020a3663",
   "metadata": {},
   "source": [
    "**?** Совсем непонятно, для чего нам нужна мнимая $i$"
   ]
  },
  {
   "cell_type": "markdown",
   "id": "35d0f5c9-76b1-4421-a4f1-f625e74b6cf7",
   "metadata": {},
   "source": [
    "# Сфера Блоха"
   ]
  },
  {
   "cell_type": "markdown",
   "id": "d44aa894-c3d8-4f11-afa6-41d46d48e522",
   "metadata": {},
   "source": [
    "От комплексных коэфиициентов вектора состояний $\\alpha$, $\\beta$ мы можем перейти к $\\theta$ и $\\phi$, которые будут давать сферические координаты и позволят изобразить вектор состояний на сфере Блоха"
   ]
  },
  {
   "cell_type": "markdown",
   "id": "774ff716-9a4b-4f56-9139-77fba1262c96",
   "metadata": {},
   "source": [
    "[Вывод](https://qiskit.org/textbook/ch-states/representing-qubit-states.html#3.-The-Bloch-Sphere-)"
   ]
  }
 ],
 "metadata": {
  "kernelspec": {
   "display_name": "Python 3 (ipykernel)",
   "language": "python",
   "name": "python3"
  },
  "language_info": {
   "codemirror_mode": {
    "name": "ipython",
    "version": 3
   },
   "file_extension": ".py",
   "mimetype": "text/x-python",
   "name": "python",
   "nbconvert_exporter": "python",
   "pygments_lexer": "ipython3",
   "version": "3.9.6"
  }
 },
 "nbformat": 4,
 "nbformat_minor": 5
}
